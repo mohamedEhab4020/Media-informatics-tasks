{
  "nbformat": 4,
  "nbformat_minor": 0,
  "metadata": {
    "colab": {
      "provenance": []
    },
    "kernelspec": {
      "name": "python3",
      "display_name": "Python 3"
    },
    "language_info": {
      "name": "python"
    }
  },
  "cells": [
    {
      "cell_type": "code",
      "execution_count": 40,
      "metadata": {
        "id": "OkFQEtOCsprw"
      },
      "outputs": [],
      "source": [
        "import cv2\n",
        "import os\n",
        "import numpy as np\n",
        "\n",
        "def AverageFilter(img):\n",
        "    kernel = np.ones((3,3), np.float32) / 9\n",
        "    filtered_img = cv2.filter2D(img, -1, kernel)\n",
        "    return filtered_img\n",
        "\n",
        "def PixelTransformation(img):\n",
        "    if img.ndim == 3:  # Convert to grayscale if the image has color channels\n",
        "        img = cv2.cvtColor(img, cv2.COLOR_BGR2GRAY)\n",
        "        \n",
        "    rows, cols = img.shape\n",
        "    \n",
        "    for i in range(rows):\n",
        "        for j in range(cols):\n",
        "            p = img[i,j]\n",
        "            if p <= 100:\n",
        "                img[i,j] = int((205 * p + 5000) / 100)\n",
        "            else:\n",
        "                img[i,j] = 255\n",
        "    return img\n",
        "\n",
        "\n",
        "\n",
        "\n",
        "\n",
        "\n"
      ]
    },
    {
      "cell_type": "code",
      "source": [
        "# Read the video file\n",
        "cap = cv2.VideoCapture('noisyvideo2.mp4')\n",
        "\n",
        "# Create the folders to save the filtered and transformed images\n",
        "if not os.path.exists('AvgFilter_ImgSeq'):\n",
        "    os.makedirs('AvgFilter_ImgSeq')\n",
        "\n",
        "if not os.path.exists('PixelTranform_ImgSeq'):\n",
        "    os.makedirs('PixelTranform_ImgSeq')\n",
        "\n",
        "# Process the first 10 frames\n",
        "for i in range(10):\n",
        "    ret, frame = cap.read()\n",
        "   \n",
        "\n",
        "    \n",
        "    # Apply the Average Filter\n",
        "    filtered_frame = AverageFilter(frame)\n",
        "    \n",
        "    # Save the filtered frame\n",
        "    cv2.imwrite('AvgFilter_ImgSeq/filtered_frame_{}.jpg'.format(i), filtered_frame)\n",
        "    \n",
        "    # Apply the Pixel Transformation\n",
        "    transformed_frame = PixelTransformation(filtered_frame)\n",
        "    \n",
        "    # Save the transformed frame\n",
        "    cv2.imwrite('PixelTranform_ImgSeq/transformed_frame_{}.jpg'.format(i), transformed_frame)\n",
        "\n",
        "cap.release()\n"
      ],
      "metadata": {
        "id": "pPs75h5ZmuNg"
      },
      "execution_count": 41,
      "outputs": []
    }
  ]
}